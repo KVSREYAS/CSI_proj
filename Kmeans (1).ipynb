{
  "nbformat": 4,
  "nbformat_minor": 0,
  "metadata": {
    "colab": {
      "provenance": []
    },
    "kernelspec": {
      "name": "python3",
      "display_name": "Python 3"
    },
    "language_info": {
      "name": "python"
    }
  },
  "cells": [
    {
      "cell_type": "code",
      "execution_count": 274,
      "metadata": {
        "id": "HB7LSeVMNFoJ"
      },
      "outputs": [],
      "source": [
        "import pandas as pd\n",
        "df=pd.read_csv('food_poisoning_reports_val.csv')\n"
      ]
    },
    {
      "cell_type": "code",
      "source": [
        "import numpy as np\n",
        "data=df.iloc[:,0]\n",
        "data=np.asarray(data)"
      ],
      "metadata": {
        "id": "wuRNZzp0NeXl"
      },
      "execution_count": 275,
      "outputs": []
    },
    {
      "cell_type": "markdown",
      "source": [
        "## ***Preprocessing***"
      ],
      "metadata": {
        "id": "rPbBrYNBa8BO"
      }
    },
    {
      "cell_type": "code",
      "source": [
        "from sklearn.feature_extraction.text import TfidfVectorizer\n",
        "from sklearn.cluster import KMeans\n",
        "from sklearn.pipeline import Pipeline,FeatureUnion\n",
        "from sklearn.preprocessing import FunctionTransformer\n",
        "import nltk\n",
        "from nltk.stem import PorterStemmer\n",
        "nltk.download('punkt')"
      ],
      "metadata": {
        "colab": {
          "base_uri": "https://localhost:8080/"
        },
        "id": "hdF5YSTBNm3G",
        "outputId": "fe69d557-2c96-4246-9b28-714e09e46b28"
      },
      "execution_count": 276,
      "outputs": [
        {
          "output_type": "stream",
          "name": "stderr",
          "text": [
            "[nltk_data] Downloading package punkt to /root/nltk_data...\n",
            "[nltk_data]   Package punkt is already up-to-date!\n"
          ]
        },
        {
          "output_type": "execute_result",
          "data": {
            "text/plain": [
              "True"
            ]
          },
          "metadata": {},
          "execution_count": 276
        }
      ]
    },
    {
      "cell_type": "code",
      "source": [
        "\n",
        "def stem_text(arr):\n",
        "  list1=[]\n",
        "  for text in arr:\n",
        "    porter_stemmer=PorterStemmer()\n",
        "    tokens = nltk.word_tokenize(text)\n",
        "    stemmed_tokens = [porter_stemmer.stem(token) for token in tokens]\n",
        "    list1.append(' '.join(stemmed_tokens))\n",
        "  return list1"
      ],
      "metadata": {
        "id": "F1ZNFi9ZZy6T"
      },
      "execution_count": 277,
      "outputs": []
    },
    {
      "cell_type": "code",
      "source": [
        "stemming_transformer = FunctionTransformer(func=stem_text)\n",
        "stem_text([\"hello how are you\"])"
      ],
      "metadata": {
        "colab": {
          "base_uri": "https://localhost:8080/"
        },
        "id": "rBpuFEjwYv0Z",
        "outputId": "7d9c45c1-49cb-4531-d4a2-45bb703bd261"
      },
      "execution_count": 278,
      "outputs": [
        {
          "output_type": "execute_result",
          "data": {
            "text/plain": [
              "['hello how are you']"
            ]
          },
          "metadata": {},
          "execution_count": 278
        }
      ]
    },
    {
      "cell_type": "code",
      "source": [
        "def self1(x):\n",
        "  return x\n",
        "input=FunctionTransformer(func=lambda x:x)"
      ],
      "metadata": {
        "id": "wZH4BK9wqzn-"
      },
      "execution_count": 279,
      "outputs": []
    },
    {
      "cell_type": "code",
      "source": [
        "def poisontxts(model):\n",
        "  vectorizer=pipeline.named_steps['tfidf']\n",
        "  model=pipeline.named_steps['kmeans']\n",
        "  terms=vectorizer.get_feature_names_out()\n",
        "  centroids=model.cluster_centers_.argsort()[:,::-1]\n",
        "  keywords=['poison','vomit']\n",
        "  labels=model.labels_\n",
        "  clus_list=[30,30]\n",
        "  for i in range(2):\n",
        "    k=0\n",
        "    for j in centroids[i,:30]:\n",
        "      k=k+1\n",
        "      if terms[j]=='poison':\n",
        "        clus_list[i]=k\n",
        "  cluster=clus_list.index(min(clus_list))\n",
        "  poison_labels=[]\n",
        "  labels=model.labels_\n",
        "  for i in range(len(labels)):\n",
        "    if labels[i]==cluster:\n",
        "      poison_labels.append(i)\n",
        "  return poison_labels\n",
        "\n",
        "\n",
        "\n",
        "\n",
        "\n",
        "\n",
        "\n",
        "\n"
      ],
      "metadata": {
        "id": "sI2DGS8ohRpa"
      },
      "execution_count": 280,
      "outputs": []
    },
    {
      "cell_type": "code",
      "source": [
        "poison_txts=FunctionTransformer(func=poisontxts)"
      ],
      "metadata": {
        "id": "gfLoPhZsYzsu"
      },
      "execution_count": 281,
      "outputs": []
    },
    {
      "cell_type": "markdown",
      "source": [
        "# ***Creating the pipeline***"
      ],
      "metadata": {
        "id": "LMjAfyKkhJvU"
      }
    },
    {
      "cell_type": "markdown",
      "source": [],
      "metadata": {
        "id": "dgylZ7s2ddWE"
      }
    },
    {
      "cell_type": "code",
      "source": [
        "pipeline=Pipeline([\n",
        "        ('input1',input),\n",
        "        ('stemming', stemming_transformer),\n",
        "        ('tfidf', TfidfVectorizer()),\n",
        "    ('kmeans',KMeans(n_clusters=2,init='k-means++',max_iter=100,n_init=1)),\n",
        "    ('output',poison_txts)\n",
        "])\n"
      ],
      "metadata": {
        "id": "l3rUsIdOZkqe"
      },
      "execution_count": 282,
      "outputs": []
    },
    {
      "cell_type": "code",
      "source": [
        "pipeline.fit(data)"
      ],
      "metadata": {
        "colab": {
          "base_uri": "https://localhost:8080/",
          "height": 231
        },
        "id": "vqOuNdaOaRU_",
        "outputId": "736a0c79-e6e2-4c14-f178-95ac284d9c2d"
      },
      "execution_count": 283,
      "outputs": [
        {
          "output_type": "execute_result",
          "data": {
            "text/plain": [
              "Pipeline(steps=[('input1',\n",
              "                 FunctionTransformer(func=<function <lambda> at 0x780240d8b010>)),\n",
              "                ('stemming',\n",
              "                 FunctionTransformer(func=<function stem_text at 0x780240d8b2e0>)),\n",
              "                ('tfidf', TfidfVectorizer()),\n",
              "                ('kmeans', KMeans(max_iter=100, n_clusters=2, n_init=1)),\n",
              "                ('output',\n",
              "                 FunctionTransformer(func=<function poisontxts at 0x780240d8a950>))])"
            ],
            "text/html": [
              "<style>#sk-container-id-19 {color: black;background-color: white;}#sk-container-id-19 pre{padding: 0;}#sk-container-id-19 div.sk-toggleable {background-color: white;}#sk-container-id-19 label.sk-toggleable__label {cursor: pointer;display: block;width: 100%;margin-bottom: 0;padding: 0.3em;box-sizing: border-box;text-align: center;}#sk-container-id-19 label.sk-toggleable__label-arrow:before {content: \"▸\";float: left;margin-right: 0.25em;color: #696969;}#sk-container-id-19 label.sk-toggleable__label-arrow:hover:before {color: black;}#sk-container-id-19 div.sk-estimator:hover label.sk-toggleable__label-arrow:before {color: black;}#sk-container-id-19 div.sk-toggleable__content {max-height: 0;max-width: 0;overflow: hidden;text-align: left;background-color: #f0f8ff;}#sk-container-id-19 div.sk-toggleable__content pre {margin: 0.2em;color: black;border-radius: 0.25em;background-color: #f0f8ff;}#sk-container-id-19 input.sk-toggleable__control:checked~div.sk-toggleable__content {max-height: 200px;max-width: 100%;overflow: auto;}#sk-container-id-19 input.sk-toggleable__control:checked~label.sk-toggleable__label-arrow:before {content: \"▾\";}#sk-container-id-19 div.sk-estimator input.sk-toggleable__control:checked~label.sk-toggleable__label {background-color: #d4ebff;}#sk-container-id-19 div.sk-label input.sk-toggleable__control:checked~label.sk-toggleable__label {background-color: #d4ebff;}#sk-container-id-19 input.sk-hidden--visually {border: 0;clip: rect(1px 1px 1px 1px);clip: rect(1px, 1px, 1px, 1px);height: 1px;margin: -1px;overflow: hidden;padding: 0;position: absolute;width: 1px;}#sk-container-id-19 div.sk-estimator {font-family: monospace;background-color: #f0f8ff;border: 1px dotted black;border-radius: 0.25em;box-sizing: border-box;margin-bottom: 0.5em;}#sk-container-id-19 div.sk-estimator:hover {background-color: #d4ebff;}#sk-container-id-19 div.sk-parallel-item::after {content: \"\";width: 100%;border-bottom: 1px solid gray;flex-grow: 1;}#sk-container-id-19 div.sk-label:hover label.sk-toggleable__label {background-color: #d4ebff;}#sk-container-id-19 div.sk-serial::before {content: \"\";position: absolute;border-left: 1px solid gray;box-sizing: border-box;top: 0;bottom: 0;left: 50%;z-index: 0;}#sk-container-id-19 div.sk-serial {display: flex;flex-direction: column;align-items: center;background-color: white;padding-right: 0.2em;padding-left: 0.2em;position: relative;}#sk-container-id-19 div.sk-item {position: relative;z-index: 1;}#sk-container-id-19 div.sk-parallel {display: flex;align-items: stretch;justify-content: center;background-color: white;position: relative;}#sk-container-id-19 div.sk-item::before, #sk-container-id-19 div.sk-parallel-item::before {content: \"\";position: absolute;border-left: 1px solid gray;box-sizing: border-box;top: 0;bottom: 0;left: 50%;z-index: -1;}#sk-container-id-19 div.sk-parallel-item {display: flex;flex-direction: column;z-index: 1;position: relative;background-color: white;}#sk-container-id-19 div.sk-parallel-item:first-child::after {align-self: flex-end;width: 50%;}#sk-container-id-19 div.sk-parallel-item:last-child::after {align-self: flex-start;width: 50%;}#sk-container-id-19 div.sk-parallel-item:only-child::after {width: 0;}#sk-container-id-19 div.sk-dashed-wrapped {border: 1px dashed gray;margin: 0 0.4em 0.5em 0.4em;box-sizing: border-box;padding-bottom: 0.4em;background-color: white;}#sk-container-id-19 div.sk-label label {font-family: monospace;font-weight: bold;display: inline-block;line-height: 1.2em;}#sk-container-id-19 div.sk-label-container {text-align: center;}#sk-container-id-19 div.sk-container {/* jupyter's `normalize.less` sets `[hidden] { display: none; }` but bootstrap.min.css set `[hidden] { display: none !important; }` so we also need the `!important` here to be able to override the default hidden behavior on the sphinx rendered scikit-learn.org. See: https://github.com/scikit-learn/scikit-learn/issues/21755 */display: inline-block !important;position: relative;}#sk-container-id-19 div.sk-text-repr-fallback {display: none;}</style><div id=\"sk-container-id-19\" class=\"sk-top-container\"><div class=\"sk-text-repr-fallback\"><pre>Pipeline(steps=[(&#x27;input1&#x27;,\n",
              "                 FunctionTransformer(func=&lt;function &lt;lambda&gt; at 0x780240d8b010&gt;)),\n",
              "                (&#x27;stemming&#x27;,\n",
              "                 FunctionTransformer(func=&lt;function stem_text at 0x780240d8b2e0&gt;)),\n",
              "                (&#x27;tfidf&#x27;, TfidfVectorizer()),\n",
              "                (&#x27;kmeans&#x27;, KMeans(max_iter=100, n_clusters=2, n_init=1)),\n",
              "                (&#x27;output&#x27;,\n",
              "                 FunctionTransformer(func=&lt;function poisontxts at 0x780240d8a950&gt;))])</pre><b>In a Jupyter environment, please rerun this cell to show the HTML representation or trust the notebook. <br />On GitHub, the HTML representation is unable to render, please try loading this page with nbviewer.org.</b></div><div class=\"sk-container\" hidden><div class=\"sk-item sk-dashed-wrapped\"><div class=\"sk-label-container\"><div class=\"sk-label sk-toggleable\"><input class=\"sk-toggleable__control sk-hidden--visually\" id=\"sk-estimator-id-108\" type=\"checkbox\" ><label for=\"sk-estimator-id-108\" class=\"sk-toggleable__label sk-toggleable__label-arrow\">Pipeline</label><div class=\"sk-toggleable__content\"><pre>Pipeline(steps=[(&#x27;input1&#x27;,\n",
              "                 FunctionTransformer(func=&lt;function &lt;lambda&gt; at 0x780240d8b010&gt;)),\n",
              "                (&#x27;stemming&#x27;,\n",
              "                 FunctionTransformer(func=&lt;function stem_text at 0x780240d8b2e0&gt;)),\n",
              "                (&#x27;tfidf&#x27;, TfidfVectorizer()),\n",
              "                (&#x27;kmeans&#x27;, KMeans(max_iter=100, n_clusters=2, n_init=1)),\n",
              "                (&#x27;output&#x27;,\n",
              "                 FunctionTransformer(func=&lt;function poisontxts at 0x780240d8a950&gt;))])</pre></div></div></div><div class=\"sk-serial\"><div class=\"sk-item\"><div class=\"sk-estimator sk-toggleable\"><input class=\"sk-toggleable__control sk-hidden--visually\" id=\"sk-estimator-id-109\" type=\"checkbox\" ><label for=\"sk-estimator-id-109\" class=\"sk-toggleable__label sk-toggleable__label-arrow\">FunctionTransformer</label><div class=\"sk-toggleable__content\"><pre>FunctionTransformer(func=&lt;function &lt;lambda&gt; at 0x780240d8b010&gt;)</pre></div></div></div><div class=\"sk-item\"><div class=\"sk-estimator sk-toggleable\"><input class=\"sk-toggleable__control sk-hidden--visually\" id=\"sk-estimator-id-110\" type=\"checkbox\" ><label for=\"sk-estimator-id-110\" class=\"sk-toggleable__label sk-toggleable__label-arrow\">FunctionTransformer</label><div class=\"sk-toggleable__content\"><pre>FunctionTransformer(func=&lt;function stem_text at 0x780240d8b2e0&gt;)</pre></div></div></div><div class=\"sk-item\"><div class=\"sk-estimator sk-toggleable\"><input class=\"sk-toggleable__control sk-hidden--visually\" id=\"sk-estimator-id-111\" type=\"checkbox\" ><label for=\"sk-estimator-id-111\" class=\"sk-toggleable__label sk-toggleable__label-arrow\">TfidfVectorizer</label><div class=\"sk-toggleable__content\"><pre>TfidfVectorizer()</pre></div></div></div><div class=\"sk-item\"><div class=\"sk-estimator sk-toggleable\"><input class=\"sk-toggleable__control sk-hidden--visually\" id=\"sk-estimator-id-112\" type=\"checkbox\" ><label for=\"sk-estimator-id-112\" class=\"sk-toggleable__label sk-toggleable__label-arrow\">KMeans</label><div class=\"sk-toggleable__content\"><pre>KMeans(max_iter=100, n_clusters=2, n_init=1)</pre></div></div></div><div class=\"sk-item\"><div class=\"sk-estimator sk-toggleable\"><input class=\"sk-toggleable__control sk-hidden--visually\" id=\"sk-estimator-id-113\" type=\"checkbox\" ><label for=\"sk-estimator-id-113\" class=\"sk-toggleable__label sk-toggleable__label-arrow\">FunctionTransformer</label><div class=\"sk-toggleable__content\"><pre>FunctionTransformer(func=&lt;function poisontxts at 0x780240d8a950&gt;)</pre></div></div></div></div></div></div></div>"
            ]
          },
          "metadata": {},
          "execution_count": 283
        }
      ]
    },
    {
      "cell_type": "code",
      "source": [
        "model=pipeline.named_steps['kmeans']\n",
        "df['clusters']=model.labels_\n",
        "clusters=df.groupby('clusters')\n"
      ],
      "metadata": {
        "id": "jI1I9-IJO7H9"
      },
      "execution_count": 284,
      "outputs": []
    },
    {
      "cell_type": "code",
      "source": [
        "for label,group_df in clusters:\n",
        "  print(label)\n",
        "  print(group_df)"
      ],
      "metadata": {
        "colab": {
          "base_uri": "https://localhost:8080/"
        },
        "id": "jWDtEGlvVTqP",
        "outputId": "efe72426-fe46-437b-e54a-bd34c30c534d"
      },
      "execution_count": 286,
      "outputs": [
        {
          "output_type": "stream",
          "name": "stdout",
          "text": [
            "0\n",
            "                                                 Text  label  clusters\n",
            "0   I'm a teacher interested in incorporating nutr...      0         0\n",
            "1   I'm a parent concerned about the lack of acces...      0         0\n",
            "7   Requesting details on the application process ...      0         0\n",
            "8   Inquiring about available resources for promot...      0         0\n",
            "15  Visited farmers market; noticed excessive use ...      0         0\n",
            "20  Inquiry regarding upcoming food safety worksho...      0         0\n",
            "21  Seeking guidance on accessing government grant...      0         0\n",
            "1\n",
            "                                                 Text  label  clusters\n",
            "2   I dined at XYZ restaurant last night and withi...      1         1\n",
            "3   Ordered takeout from ABC eatery and regretted ...      1         1\n",
            "4   Attended a catered event where the sushi looke...      1         1\n",
            "5   Went to DEF fast food joint for a quick bite, ...      1         1\n",
            "6   Bought some pre-packaged sandwiches from GHI c...      1         1\n",
            "9   Tried out JKL street food vendor and deeply re...      1         1\n",
            "10  Had a family dinner at MNO buffet restaurant a...      1         1\n",
            "11  Dined at VWX upscale restaurant for a special ...      1         1\n",
            "12  Got a salad from YZA salad bar and it was a hu...      1         1\n",
            "13  Tried ZAB new food truck, and it was a complet...      1         1\n",
            "14  Received complaint about misleading food label...      0         1\n",
            "16  Received reports of counterfeit food products ...      0         1\n",
            "17  Attended food safety seminar; participants rai...      0         1\n",
            "18  Decided to try out PQR new bakery, and it was ...      1         1\n",
            "19  Purchased some sushi from STU supermarket and ...      1         1\n",
            "22  I ate at that new sushi restaurant last night,...      1         1\n",
            "23  After eating at that new Mexican restaurant, I...      1         1\n",
            "24  My friend and I both got vomit from the sushi ...      1         1\n"
          ]
        }
      ]
    },
    {
      "cell_type": "code",
      "source": [
        "!pip install dill\n",
        "import dill\n",
        "\n",
        "# Save the pipeline as a model file using dill\n",
        "with open('pipeline_model_2.pkl', 'wb') as file:\n",
        "    dill.dump(pipeline, file)"
      ],
      "metadata": {
        "colab": {
          "base_uri": "https://localhost:8080/"
        },
        "id": "Iet8JPRXno_U",
        "outputId": "60af47cf-234c-4222-9bb9-5bb4f6bd0b56"
      },
      "execution_count": 287,
      "outputs": [
        {
          "output_type": "stream",
          "name": "stdout",
          "text": [
            "Requirement already satisfied: dill in /usr/local/lib/python3.10/dist-packages (0.3.8)\n"
          ]
        }
      ]
    },
    {
      "cell_type": "code",
      "source": [
        "with open('pipeline_model_2.pkl', 'rb') as file:\n",
        "    pipeline_model = dill.load(file)"
      ],
      "metadata": {
        "id": "HIAGNGHeoUKl"
      },
      "execution_count": 288,
      "outputs": []
    },
    {
      "cell_type": "code",
      "source": [
        "pipeline_model.transform(data)"
      ],
      "metadata": {
        "colab": {
          "base_uri": "https://localhost:8080/"
        },
        "id": "06qx-kqrokto",
        "outputId": "b667cc5d-18bd-4cf0-9e2d-b670afd19f09"
      },
      "execution_count": 289,
      "outputs": [
        {
          "output_type": "execute_result",
          "data": {
            "text/plain": [
              "[2, 3, 4, 5, 6, 9, 10, 11, 12, 13, 14, 16, 17, 18, 19, 22, 23, 24]"
            ]
          },
          "metadata": {},
          "execution_count": 289
        }
      ]
    },
    {
      "cell_type": "markdown",
      "source": [
        "# *Evaluating the model*"
      ],
      "metadata": {
        "id": "_HocflpqhO8w"
      }
    },
    {
      "cell_type": "code",
      "source": [
        "from sklearn.metrics import f1_score\n",
        "X_test=df.iloc[:,0]\n",
        "y_test=df.iloc[:,1]"
      ],
      "metadata": {
        "id": "0B65rHXhR6AU"
      },
      "execution_count": 290,
      "outputs": []
    },
    {
      "cell_type": "code",
      "source": [
        "poison_labels=pipeline.transform(X_test)\n",
        "pred=np.zeros(len(X_test))\n",
        "pred[poison_labels]=1\n"
      ],
      "metadata": {
        "id": "jy8N3a_9RqFS"
      },
      "execution_count": 291,
      "outputs": []
    },
    {
      "cell_type": "code",
      "source": [
        "f1score=f1_score(y_test,pred)\n",
        "f1score"
      ],
      "metadata": {
        "colab": {
          "base_uri": "https://localhost:8080/"
        },
        "id": "bKxr0veHQZ4x",
        "outputId": "62349cfa-1a1d-458a-cfe7-eeceb4b3ea3d"
      },
      "execution_count": 292,
      "outputs": [
        {
          "output_type": "execute_result",
          "data": {
            "text/plain": [
              "0.9090909090909091"
            ]
          },
          "metadata": {},
          "execution_count": 292
        }
      ]
    },
    {
      "cell_type": "code",
      "source": [
        "import matplotlib.pyplot as plt\n",
        "from sklearn.metrics import confusion_matrix\n",
        "import seaborn as sns\n",
        "cm = confusion_matrix(y_test, pred)\n",
        "\n",
        "# Plot confusion matrix\n",
        "plt.figure(figsize=(8, 6))\n",
        "sns.heatmap(cm, annot=True, cmap='Blues', fmt='g')\n",
        "plt.xlabel('Predicted labels')\n",
        "plt.ylabel('True labels')\n",
        "plt.title('Confusion Matrix')\n",
        "plt.show()"
      ],
      "metadata": {
        "colab": {
          "base_uri": "https://localhost:8080/",
          "height": 564
        },
        "id": "N7V974jyg2Wd",
        "outputId": "513c9eb4-a269-4f95-b1e5-1a3e618f454c"
      },
      "execution_count": 293,
      "outputs": [
        {
          "output_type": "display_data",
          "data": {
            "text/plain": [
              "<Figure size 800x600 with 2 Axes>"
            ],
            "image/png": "[encoded data removed]"
          },
          "metadata": {}
        }
      ]
    },
    {
      "cell_type": "markdown",
      "source": [
        "# **Printing the texts related to food poisoning**"
      ],
      "metadata": {
        "id": "TYC6O7MmoyYT"
      }
    },
    {
      "cell_type": "code",
      "source": [
        "poison_txts=[]\n",
        "for txt in data[poison_labels]:\n",
        "  poison_txts.append(txt)\n",
        "poison_txts"
      ],
      "metadata": {
        "colab": {
          "base_uri": "https://localhost:8080/"
        },
        "id": "JtsQB6Vsi9uS",
        "outputId": "6f575cad-d636-4cff-8bc0-597b87de4807"
      },
      "execution_count": 294,
      "outputs": [
        {
          "output_type": "execute_result",
          "data": {
            "text/plain": [
              "['I dined at XYZ restaurant last night and within hours of consuming their seafood pasta, I was struck with severe stomach cramps and relentless vomiting. Absolutely appalling!',\n",
              " 'Ordered takeout from ABC eatery and regretted it immediately. The chicken curry seemed off, and sure enough, I spent the entire night doubled over in agony. Never again!',\n",
              " \"Attended a catered event where the sushi looked suspect, but I thought I'd give it a try. Big mistake! Spent the next two days bedridden with food poisoning. Avoid at all costs!\",\n",
              " 'Went to DEF fast food joint for a quick bite, and it turned into a nightmare. Their burgers might be cheap, but the food poisoning I got from them was anything but. Stay away!',\n",
              " 'Bought some pre-packaged sandwiches from GHI convenience store, and it was the worst decision of my life. Spent the next 24 hours worshiping the porcelain god. Disgusting!',\n",
              " 'Tried out JKL street food vendor and deeply regretted it. The tacos looked tempting, but the aftermath was anything but. Spent the next day chained to the bathroom. Avoid like the plague!',\n",
              " 'Had a family dinner at MNO buffet restaurant and ended up regretting it big time. The selection might be extensive, but so was the food poisoning I got from it. Absolutely horrendous!',\n",
              " 'Dined at VWX upscale restaurant for a special occasion and ended up with a special surprise – food poisoning! The experience was unforgettable, but for all the wrong reasons. Never returning!',\n",
              " 'Got a salad from YZA salad bar and it was a huge disappointment. Not only was it bland, but it also left me with a severe case of food poisoning. Would not recommend!',\n",
              " 'Tried ZAB new food truck, and it was a complete disaster. The tacos might have looked tasty, but the food poisoning I got from them was far from appetizing. Steer clear!',\n",
              " 'Received complaint about misleading food labels at local grocery store. Concerned about consumer deception. Investigation needed.',\n",
              " 'Received reports of counterfeit food products being sold online. Worried about consumer health and fraud. Enforcement action needed.',\n",
              " 'Attended food safety seminar; participants raised concerns about lack of allergen labeling in restaurants. Policy review recommended.',\n",
              " 'Decided to try out PQR new bakery, and it was a huge mistake. Their pastries might look appetizing, but the food poisoning I got from them was anything but delightful. Never again!We omitted a lot',\n",
              " 'Purchased some sushi from STU supermarket and it was a grave error. Ended up with food poisoning that had me feeling like death warmed over. Avoid their sushi at all costs!',\n",
              " \"I ate at that new sushi restaurant last night, and I've been feeling nauseous and experiencing stomach cramps ever since. I'm pretty sure it was food poisoning.\",\n",
              " 'After eating at that new Mexican restaurant, I spent the entire night vomiting and with severe stomach cramps. It was definitely food poisoning!',\n",
              " \"My friend and I both got vomit from the sushi we had at the party last night. We've been feeling terrible all day.I think we're affected by food poisoning\"]"
            ]
          },
          "metadata": {},
          "execution_count": 294
        }
      ]
    }
  ]
}